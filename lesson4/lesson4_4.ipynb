{
 "cells": [
  {
   "cell_type": "code",
   "execution_count": 2,
   "metadata": {},
   "outputs": [
    {
     "name": "stdout",
     "output_type": "stream",
     "text": [
      "身高=170,體重=70\n",
      "BMI=24.221453287197235\n",
      "過重\n",
      "程式結束\n"
     ]
    }
   ],
   "source": [
    "import tools\n",
    "\n",
    "while True:\n",
    "    kg=0  #清除變數\n",
    "    cm=0  #清除變數\n",
    "    cm,kg = tools.input_data() #呼叫function\n",
    "\n",
    "    print(f'身高={cm},體重={kg}')\n",
    "    BMI = tools.calculate_bmi(cm=cm,kg=kg) #引數名稱的呼叫,可以不依照順序\n",
    "    print(f'BMI={BMI}')\n",
    "    print(tools.get_status(BMI))\n",
    "    \n",
    "    play_again = input(\"還要繼續嗎?(y,n)\")\n",
    "    if play_again == \"n\":\n",
    "        break\n",
    "print('程式結束')"
   ]
  }
 ],
 "metadata": {
  "kernelspec": {
   "display_name": "venv1",
   "language": "python",
   "name": "python3"
  },
  "language_info": {
   "codemirror_mode": {
    "name": "ipython",
    "version": 3
   },
   "file_extension": ".py",
   "mimetype": "text/x-python",
   "name": "python",
   "nbconvert_exporter": "python",
   "pygments_lexer": "ipython3",
   "version": "3.11.9"
  }
 },
 "nbformat": 4,
 "nbformat_minor": 2
}
