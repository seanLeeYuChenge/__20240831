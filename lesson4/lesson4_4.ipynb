{
 "cells": [
  {
   "cell_type": "code",
   "execution_count": 14,
   "metadata": {},
   "outputs": [
    {
     "name": "stdout",
     "output_type": "stream",
     "text": [
      "身高=170,體重=70\n",
      "BMI=24.221453287197235\n"
     ]
    },
    {
     "ename": "NameError",
     "evalue": "name 'BMI' is not defined",
     "output_type": "error",
     "traceback": [
      "\u001b[1;31m---------------------------------------------------------------------------\u001b[0m",
      "\u001b[1;31mNameError\u001b[0m                                 Traceback (most recent call last)",
      "Cell \u001b[1;32mIn[14], line 11\u001b[0m\n\u001b[0;32m      9\u001b[0m BMI \u001b[38;5;241m=\u001b[39m tools\u001b[38;5;241m.\u001b[39mcalculate_bmi(cm\u001b[38;5;241m=\u001b[39mcm,kg\u001b[38;5;241m=\u001b[39mkg) \u001b[38;5;66;03m#引數名稱的呼叫,可以不依照順序\u001b[39;00m\n\u001b[0;32m     10\u001b[0m \u001b[38;5;28mprint\u001b[39m(\u001b[38;5;124mf\u001b[39m\u001b[38;5;124m'\u001b[39m\u001b[38;5;124mBMI=\u001b[39m\u001b[38;5;132;01m{\u001b[39;00mBMI\u001b[38;5;132;01m}\u001b[39;00m\u001b[38;5;124m'\u001b[39m)\n\u001b[1;32m---> 11\u001b[0m \u001b[38;5;28mprint\u001b[39m(\u001b[43mtools\u001b[49m\u001b[38;5;241;43m.\u001b[39;49m\u001b[43mget_status\u001b[49m\u001b[43m(\u001b[49m\u001b[43mBMI\u001b[49m\u001b[43m)\u001b[49m)\n\u001b[0;32m     13\u001b[0m play_again \u001b[38;5;241m=\u001b[39m \u001b[38;5;28minput\u001b[39m(\u001b[38;5;124m\"\u001b[39m\u001b[38;5;124m還要繼續嗎?(y,n)\u001b[39m\u001b[38;5;124m\"\u001b[39m)\n\u001b[0;32m     14\u001b[0m \u001b[38;5;28;01mif\u001b[39;00m play_again \u001b[38;5;241m==\u001b[39m \u001b[38;5;124m\"\u001b[39m\u001b[38;5;124mn\u001b[39m\u001b[38;5;124m\"\u001b[39m:\n",
      "File \u001b[1;32mc:\\Users\\User\\Documents\\GitHub\\__20240831\\lesson4\\tools.py:29\u001b[0m, in \u001b[0;36mget_status\u001b[1;34m(bmi)\u001b[0m\n\u001b[0;32m     28\u001b[0m \u001b[38;5;28;01mdef\u001b[39;00m \u001b[38;5;21mget_status\u001b[39m(bmi:\u001b[38;5;28mfloat\u001b[39m)\u001b[38;5;241m-\u001b[39m\u001b[38;5;241m>\u001b[39m\u001b[38;5;28mstr\u001b[39m:\n\u001b[1;32m---> 29\u001b[0m     \u001b[38;5;28;01mif\u001b[39;00m \u001b[43mBMI\u001b[49m \u001b[38;5;241m>\u001b[39m\u001b[38;5;241m=\u001b[39m\u001b[38;5;241m35\u001b[39m:\n\u001b[0;32m     30\u001b[0m         \u001b[38;5;28;01mreturn\u001b[39;00m \u001b[38;5;124m\"\u001b[39m\u001b[38;5;124m重度肥胖：BMI≧35\u001b[39m\u001b[38;5;124m\"\u001b[39m\n\u001b[0;32m     31\u001b[0m     \u001b[38;5;28;01melif\u001b[39;00m BMI \u001b[38;5;241m>\u001b[39m\u001b[38;5;241m=\u001b[39m\u001b[38;5;241m30\u001b[39m:\n",
      "\u001b[1;31mNameError\u001b[0m: name 'BMI' is not defined"
     ]
    }
   ],
   "source": [
    "import tools\n",
    "\n",
    "while True:\n",
    "    kg=0  #清除變數\n",
    "    cm=0  #清除變數\n",
    "    cm,kg = tools.input_data() #呼叫function\n",
    "\n",
    "    print(f'身高={cm},體重={kg}')\n",
    "    BMI = tools.calculate_bmi(cm=cm,kg=kg) #引數名稱的呼叫,可以不依照順序\n",
    "    print(f'BMI={BMI}')\n",
    "    print(tools.get_status(BMI))\n",
    "    \n",
    "    play_again = input(\"還要繼續嗎?(y,n)\")\n",
    "    if play_again == \"n\":\n",
    "        break\n",
    "print('程式結束')"
   ]
  }
 ],
 "metadata": {
  "kernelspec": {
   "display_name": "venv1",
   "language": "python",
   "name": "python3"
  },
  "language_info": {
   "codemirror_mode": {
    "name": "ipython",
    "version": 3
   },
   "file_extension": ".py",
   "mimetype": "text/x-python",
   "name": "python",
   "nbconvert_exporter": "python",
   "pygments_lexer": "ipython3",
   "version": "3.11.9"
  }
 },
 "nbformat": 4,
 "nbformat_minor": 2
}
