{
 "cells": [
  {
   "cell_type": "code",
   "execution_count": 13,
   "metadata": {},
   "outputs": [
    {
     "name": "stdout",
     "output_type": "stream",
     "text": [
      "身高範圍錯誤\n",
      "程式結束\n"
     ]
    }
   ],
   "source": [
    "try:\n",
    "    \n",
    "    height_cm = float(input(\"請輸入身高(公分): \"))\n",
    "    weight_kg = float(input(\"請輸入體重(公斤): \"))\n",
    "    \n",
    "    \n",
    "    if weight_kg > 500 or weight_kg < 10:\n",
    "        raise Exception(\"體重範圍錯誤\")\n",
    "    if height_cm > 300 or height_cm < 10:\n",
    "        raise Exception(\"身高範圍錯誤\")\n",
    "    \n",
    "   \n",
    "    height_m = round(height_cm / 100, 2)\n",
    "    bmi_kg_m2 = round(weight_kg / (height_m ** 2), 2)\n",
    "\n",
    "    if bmi_kg_m2 >= 35:\n",
    "        print(f\"您的BMI值是 {bmi_kg_m2}\\n您的體重重度肥胖\")\n",
    "    elif bmi_kg_m2 >= 30:\n",
    "        print(f\"您的BMI值是 {bmi_kg_m2}\\n您的體重中度肥胖\")\n",
    "    elif bmi_kg_m2 >= 27:\n",
    "        print(f\"您的BMI值是 {bmi_kg_m2}\\n您的體重輕度肥胖\") \n",
    "    elif bmi_kg_m2 >= 24:\n",
    "        print(f\"您的BMI值是 {bmi_kg_m2}\\n您的體重過重\")\n",
    "    elif bmi_kg_m2 >= 18.5:\n",
    "        print(f\"您的BMI值是 {bmi_kg_m2}\\n您的體重正常範圍\")\n",
    "    else:\n",
    "        print(f\"您的BMI值是 {bmi_kg_m2}\\n您的體重過輕\") \n",
    "\n",
    "except ValueError:\n",
    "    print(\"輸入格式錯誤，請輸入數字\")\n",
    "except Exception as e:\n",
    "    print(e)\n",
    "\n",
    "print(\"程式結束\")\n"
   ]
  }
 ],
 "metadata": {
  "kernelspec": {
   "display_name": "venv1",
   "language": "python",
   "name": "python3"
  },
  "language_info": {
   "codemirror_mode": {
    "name": "ipython",
    "version": 3
   },
   "file_extension": ".py",
   "mimetype": "text/x-python",
   "name": "python",
   "nbconvert_exporter": "python",
   "pygments_lexer": "ipython3",
   "version": "3.11.9"
  }
 },
 "nbformat": 4,
 "nbformat_minor": 2
}
