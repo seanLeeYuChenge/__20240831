{
 "cells": [
  {
   "cell_type": "code",
   "execution_count": null,
   "metadata": {},
   "outputs": [],
   "source": [
    "while True:\n",
    "    kg=0  #清除變數\n",
    "    cm=0  #清除變數\n",
    "    try:    \n",
    "        cm = int(input(\"請輸入身高(公分):\"))\n",
    "        if cm > 300:\n",
    "                raise Exception(\"超過300公分\")\n",
    "    except ValueError:\n",
    "        print('輸入格式錯誤')\n",
    "        continue\n",
    "    except Exception as e:\n",
    "        print(f'輸入錯誤{cm}')\n",
    "        continue\n",
    "\n",
    "    try:    \n",
    "        kg = int(input(\"請輸入體重(公斤):\"))\n",
    "        if kg > 300:\n",
    "            raise Exception(\"超過300公分\")\n",
    "    except ValueError:\n",
    "        print('輸入格式錯誤')\n",
    "        continue\n",
    "    except Exception as e:\n",
    "        print(f'輸入錯誤{kg}')\n",
    "        continue\n",
    "\n",
    "    print(f'身高={cm},體重={kg}')\n",
    "    cm=(cm/100)*(cm/100)\n",
    "    BMI=kg/cm\n",
    "    print(f'BMI={BMI}')\n",
    "    if BMI >=35:\n",
    "        print(\"重度肥胖：BMI≧35\")\n",
    "    elif BMI >=30:\n",
    "        print(\"中度肥胖：30≦BMI\")\n",
    "    elif BMI >=27:\n",
    "        print(\"輕度肥胖：27≦BMI\")\n",
    "    elif BMI >=24:\n",
    "        print(\"過重\")\n",
    "    elif BMI >=18.5:\n",
    "        print(\"正常範圍\")\n",
    "    else:\n",
    "        print(\"體重過輕\")\n",
    "    \n",
    "    play_again = input(\"還要繼續嗎?(y,n)\")\n",
    "    if play_again == \"n\":\n",
    "        break\n",
    "print('程式結束')"
   ]
  }
 ],
 "metadata": {
  "language_info": {
   "name": "python"
  }
 },
 "nbformat": 4,
 "nbformat_minor": 2
}
